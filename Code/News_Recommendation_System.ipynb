{
  "nbformat": 4,
  "nbformat_minor": 0,
  "metadata": {
    "colab": {
      "name": "News_Recommendation_System-2.ipynb",
      "provenance": [],
      "collapsed_sections": []
    },
    "kernelspec": {
      "display_name": "Python 3",
      "name": "python3"
    },
    "accelerator": "GPU"
  },
  "cells": [
    {
      "cell_type": "markdown",
      "metadata": {
        "id": "-MdSmz_a-f97"
      },
      "source": [
        "# **Project Information**"
      ]
    },
    {
      "cell_type": "markdown",
      "metadata": {
        "id": "7fTcMypb-vAY"
      },
      "source": [
        "**  **\n",
        "<br>\n",
        "\n",
        "1.   **Project Name :** News Recommendation System\n",
        "2.   **Team Members :** \n",
        "\n",
        "|             Name             |    Enrollment No.   |\n",
        "|------------------------------|:--------------------|\n",
        "| [Jeet D. Shah](https://github.com/jds311) |   AU1841006 |\n",
        "| [Manav M. Vagrecha](https://github.com/caped-crusader16)  | AU1841022  |\n",
        "| [Parth N. Patel](https://github.com/parth-27) | AU1841028  |\n",
        "| [Shreyansh N. Shah](https://github.com/shreyanshshah27)  |   AU1841046   |\n",
        "\n",
        "3.   **Course Name :** Machine Learning (CSE523)\n",
        "4.   **Project Description :**\n",
        "<br>\n",
        "\n",
        "**  **"
      ]
    },
    {
      "cell_type": "markdown",
      "metadata": {
        "id": "gJFj49M590_X"
      },
      "source": [
        "# **Back-End Process**"
      ]
    },
    {
      "cell_type": "markdown",
      "metadata": {
        "id": "X5U-LewS7ihm"
      },
      "source": [
        "## Import Dataset"
      ]
    },
    {
      "cell_type": "markdown",
      "metadata": {
        "id": "X9s5V3zuMKsy"
      },
      "source": [
        "Mounting the folder for Dataset"
      ]
    },
    {
      "cell_type": "code",
      "metadata": {
        "id": "ENcVE28B7iho",
        "colab": {
          "base_uri": "https://localhost:8080/"
        },
        "outputId": "a4845df1-1c89-4943-ce27-895a626f3ea1"
      },
      "source": [
        "import pandas as pd \n",
        "from google.colab import drive\n",
        "\n",
        "drive.mount('/content/drive/')\n",
        "\n",
        "url_behavior = '/content/drive/MyDrive/Dataset/MIND dataset/behaviors.tsv'\n",
        "url_news = '/content/drive/MyDrive/Dataset/MIND dataset/news.tsv'"
      ],
      "execution_count": 2,
      "outputs": [
        {
          "output_type": "stream",
          "text": [
            "Mounted at /content/drive/\n"
          ],
          "name": "stdout"
        }
      ]
    },
    {
      "cell_type": "code",
      "metadata": {
        "id": "syTHSEaoLNXv"
      },
      "source": [
        "behavior = pd.read_csv(url_behavior, sep='\\t', names=[\"Index\", \"User-ID\", \"Timestamp\", \"History\", \"Impressions\"])\n",
        "news = pd.read_csv(url_news, sep='\\t', names=[\"News-ID\", \"Category\", \"Sub-Category\", \"Title\", \"Abstract\", \"URL\", \"Title-Entities\", \"Abstract-Entities\"])\n"
      ],
      "execution_count": 3,
      "outputs": []
    },
    {
      "cell_type": "markdown",
      "metadata": {
        "id": "ACwk4b-171iw"
      },
      "source": [
        "## Data Validation, Cleaning and Preprocessing"
      ]
    },
    {
      "cell_type": "markdown",
      "metadata": {
        "id": "YRR17MNAfo44"
      },
      "source": [
        "### Removing redundant columns in Behaviour Data"
      ]
    },
    {
      "cell_type": "code",
      "metadata": {
        "id": "yhRmZC_r71iz"
      },
      "source": [
        "# Remove Redundant columns\n",
        "\n",
        "behav_data = behavior.dropna(axis=0, how='any', inplace=False)\n",
        "behav_data = behav_data[[\"User-ID\",\"History\",\"Impressions\"]]\n",
        "behavior_data = behav_data\n",
        "inde = []\n",
        "for i in range(len(behavior_data['User-ID'])):\n",
        "  inde.append(i)\n",
        "behavior_data['Inde'] = inde\n",
        "behavior_data = behavior_data.set_index('Inde')\n",
        "#\"Index\", \"User-ID\", \"History\","
      ],
      "execution_count": 4,
      "outputs": []
    },
    {
      "cell_type": "markdown",
      "metadata": {
        "id": "xzJM8vrHf28T"
      },
      "source": [
        "### Removing redundant columns in News Data"
      ]
    },
    {
      "cell_type": "code",
      "metadata": {
        "id": "vBCS_ULgdKMF",
        "colab": {
          "base_uri": "https://localhost:8080/",
          "height": 342
        },
        "outputId": "6c8b4bd2-052a-4953-c301-6d2616621c11"
      },
      "source": [
        "news = news.dropna(subset=[\"News-ID\"])\n",
        "news = news.drop_duplicates(subset=None, keep='first', inplace=False)\n",
        "news_data = news[[\"News-ID\", \"Category\", \"Sub-Category\", \"Title\", \"Abstract\"]]\n",
        "\n",
        "inde = []\n",
        "for i in range(len(news_data['News-ID'])):\n",
        "  inde.append(i)\n",
        "news_data['Inde'] = inde\n",
        "news_data = news_data.set_index('Inde')  \n",
        "news_data.head()\n",
        "# Discard impressions column\n",
        "# pd.set_option('display.max_colwidth', 10000)"
      ],
      "execution_count": 5,
      "outputs": [
        {
          "output_type": "stream",
          "text": [
            "/usr/local/lib/python3.7/dist-packages/ipykernel_launcher.py:8: SettingWithCopyWarning: \n",
            "A value is trying to be set on a copy of a slice from a DataFrame.\n",
            "Try using .loc[row_indexer,col_indexer] = value instead\n",
            "\n",
            "See the caveats in the documentation: https://pandas.pydata.org/pandas-docs/stable/user_guide/indexing.html#returning-a-view-versus-a-copy\n",
            "  \n"
          ],
          "name": "stderr"
        },
        {
          "output_type": "execute_result",
          "data": {
            "text/html": [
              "<div>\n",
              "<style scoped>\n",
              "    .dataframe tbody tr th:only-of-type {\n",
              "        vertical-align: middle;\n",
              "    }\n",
              "\n",
              "    .dataframe tbody tr th {\n",
              "        vertical-align: top;\n",
              "    }\n",
              "\n",
              "    .dataframe thead th {\n",
              "        text-align: right;\n",
              "    }\n",
              "</style>\n",
              "<table border=\"1\" class=\"dataframe\">\n",
              "  <thead>\n",
              "    <tr style=\"text-align: right;\">\n",
              "      <th></th>\n",
              "      <th>News-ID</th>\n",
              "      <th>Category</th>\n",
              "      <th>Sub-Category</th>\n",
              "      <th>Title</th>\n",
              "      <th>Abstract</th>\n",
              "    </tr>\n",
              "    <tr>\n",
              "      <th>Inde</th>\n",
              "      <th></th>\n",
              "      <th></th>\n",
              "      <th></th>\n",
              "      <th></th>\n",
              "      <th></th>\n",
              "    </tr>\n",
              "  </thead>\n",
              "  <tbody>\n",
              "    <tr>\n",
              "      <th>0</th>\n",
              "      <td>N55528</td>\n",
              "      <td>lifestyle</td>\n",
              "      <td>lifestyleroyals</td>\n",
              "      <td>The Brands Queen Elizabeth, Prince Charles, an...</td>\n",
              "      <td>Shop the notebooks, jackets, and more that the...</td>\n",
              "    </tr>\n",
              "    <tr>\n",
              "      <th>1</th>\n",
              "      <td>N19639</td>\n",
              "      <td>health</td>\n",
              "      <td>weightloss</td>\n",
              "      <td>50 Worst Habits For Belly Fat</td>\n",
              "      <td>These seemingly harmless habits are holding yo...</td>\n",
              "    </tr>\n",
              "    <tr>\n",
              "      <th>2</th>\n",
              "      <td>N61837</td>\n",
              "      <td>news</td>\n",
              "      <td>newsworld</td>\n",
              "      <td>The Cost of Trump's Aid Freeze in the Trenches...</td>\n",
              "      <td>Lt. Ivan Molchanets peeked over a parapet of s...</td>\n",
              "    </tr>\n",
              "    <tr>\n",
              "      <th>3</th>\n",
              "      <td>N53526</td>\n",
              "      <td>health</td>\n",
              "      <td>voices</td>\n",
              "      <td>I Was An NBA Wife. Here's How It Affected My M...</td>\n",
              "      <td>I felt like I was a fraud, and being an NBA wi...</td>\n",
              "    </tr>\n",
              "    <tr>\n",
              "      <th>4</th>\n",
              "      <td>N38324</td>\n",
              "      <td>health</td>\n",
              "      <td>medical</td>\n",
              "      <td>How to Get Rid of Skin Tags, According to a De...</td>\n",
              "      <td>They seem harmless, but there's a very good re...</td>\n",
              "    </tr>\n",
              "  </tbody>\n",
              "</table>\n",
              "</div>"
            ],
            "text/plain": [
              "     News-ID  ...                                           Abstract\n",
              "Inde          ...                                                   \n",
              "0     N55528  ...  Shop the notebooks, jackets, and more that the...\n",
              "1     N19639  ...  These seemingly harmless habits are holding yo...\n",
              "2     N61837  ...  Lt. Ivan Molchanets peeked over a parapet of s...\n",
              "3     N53526  ...  I felt like I was a fraud, and being an NBA wi...\n",
              "4     N38324  ...  They seem harmless, but there's a very good re...\n",
              "\n",
              "[5 rows x 5 columns]"
            ]
          },
          "metadata": {
            "tags": []
          },
          "execution_count": 5
        }
      ]
    },
    {
      "cell_type": "markdown",
      "metadata": {
        "id": "5mnXe2l3gAF3"
      },
      "source": [
        "### Splitting News Articles from History and Impression column"
      ]
    },
    {
      "cell_type": "code",
      "metadata": {
        "id": "dp6bGmIoPA9J"
      },
      "source": [
        "import numpy as np\n",
        "\n",
        "def split_impressions(strings):\n",
        "  data = strings.split()\n",
        "  return data\n",
        "\n",
        "bd_hist = behavior_data[\"History\"].values.tolist()\n",
        "bd_imp = behavior_data[\"Impressions\"].values.tolist()\n",
        "\n",
        "split_hist_final = []\n",
        "split_imp_final = []\n",
        "x_final = []\n",
        "y_final = []\n",
        "sum_final = []\n",
        "\n",
        "for i in range(len(bd_hist)):\n",
        "  split_imp = split_impressions(bd_imp[i])\n",
        "  split_hist = split_impressions(bd_hist[i])\n",
        "  x = split_hist\n",
        "  y = []\n",
        "\n",
        "  for j in range(len(split_hist)):\n",
        "    y.append(1)\n",
        "  \n",
        "  su = 0\n",
        "  for temp in split_imp:\n",
        "    abc = temp.split(\"-\")\n",
        "    # print(abc)\n",
        "    x.append(abc[0])\n",
        "    # #print(abc[0])\n",
        "    y.append(int(abc[1]))\n",
        "    #print(abc[1])\n",
        "  \n",
        "  # print(x)\n",
        "  # print(y)\n",
        "\n",
        "  sum_final.append(sum(y))\n",
        "  \n",
        "  x_final.append(x)\n",
        "  y_final.append(y)\n",
        "  split_imp_final.append(split_imp)\n",
        "  split_hist_final.append(split_hist)\n",
        "# d = split_impressions(bd[17][0])\n",
        "# for temp in d:\n",
        "#   print(temp)\n",
        "# print(len(d))\n",
        "behavior_data['Split History'] = split_hist_final\n",
        "behavior_data['Split Impressions'] = split_imp_final\n",
        "behavior_data['X'] = x_final\n",
        "behavior_data['Y'] = y_final\n",
        "behavior_data['1 Counts'] = sum_final"
      ],
      "execution_count": 6,
      "outputs": []
    },
    {
      "cell_type": "code",
      "metadata": {
        "id": "H1jDefQ5kAhx",
        "colab": {
          "base_uri": "https://localhost:8080/",
          "height": 238
        },
        "outputId": "b7349d72-f965-4c64-ce9b-231460f653ab"
      },
      "source": [
        "behavior_data = behavior_data[[\"User-ID\",\"X\", \"Y\", \"1 Counts\"]]\n",
        "behavior_data.head()"
      ],
      "execution_count": 7,
      "outputs": [
        {
          "output_type": "execute_result",
          "data": {
            "text/html": [
              "<div>\n",
              "<style scoped>\n",
              "    .dataframe tbody tr th:only-of-type {\n",
              "        vertical-align: middle;\n",
              "    }\n",
              "\n",
              "    .dataframe tbody tr th {\n",
              "        vertical-align: top;\n",
              "    }\n",
              "\n",
              "    .dataframe thead th {\n",
              "        text-align: right;\n",
              "    }\n",
              "</style>\n",
              "<table border=\"1\" class=\"dataframe\">\n",
              "  <thead>\n",
              "    <tr style=\"text-align: right;\">\n",
              "      <th></th>\n",
              "      <th>User-ID</th>\n",
              "      <th>X</th>\n",
              "      <th>Y</th>\n",
              "      <th>1 Counts</th>\n",
              "    </tr>\n",
              "    <tr>\n",
              "      <th>Inde</th>\n",
              "      <th></th>\n",
              "      <th></th>\n",
              "      <th></th>\n",
              "      <th></th>\n",
              "    </tr>\n",
              "  </thead>\n",
              "  <tbody>\n",
              "    <tr>\n",
              "      <th>0</th>\n",
              "      <td>U13740</td>\n",
              "      <td>[N55189, N42782, N34694, N45794, N18445, N6330...</td>\n",
              "      <td>[1, 1, 1, 1, 1, 1, 1, 1, 1, 1, 0]</td>\n",
              "      <td>10</td>\n",
              "    </tr>\n",
              "    <tr>\n",
              "      <th>1</th>\n",
              "      <td>U91836</td>\n",
              "      <td>[N31739, N6072, N63045, N23979, N35656, N43353...</td>\n",
              "      <td>[1, 1, 1, 1, 1, 1, 1, 1, 1, 1, 1, 1, 1, 1, 1, ...</td>\n",
              "      <td>83</td>\n",
              "    </tr>\n",
              "    <tr>\n",
              "      <th>2</th>\n",
              "      <td>U73700</td>\n",
              "      <td>[N10732, N25792, N7563, N21087, N41087, N5445,...</td>\n",
              "      <td>[1, 1, 1, 1, 1, 1, 1, 1, 1, 1, 1, 1, 1, 1, 1, ...</td>\n",
              "      <td>17</td>\n",
              "    </tr>\n",
              "    <tr>\n",
              "      <th>3</th>\n",
              "      <td>U34670</td>\n",
              "      <td>[N45729, N2203, N871, N53880, N41375, N43142, ...</td>\n",
              "      <td>[1, 1, 1, 1, 1, 1, 1, 1, 1, 1, 0, 0, 1, 0]</td>\n",
              "      <td>11</td>\n",
              "    </tr>\n",
              "    <tr>\n",
              "      <th>4</th>\n",
              "      <td>U8125</td>\n",
              "      <td>[N10078, N56514, N14904, N33740, N39985, N3605...</td>\n",
              "      <td>[1, 1, 1, 1, 0, 0, 0, 1, 0, 0, 0, 0, 0, 0, 0, ...</td>\n",
              "      <td>5</td>\n",
              "    </tr>\n",
              "  </tbody>\n",
              "</table>\n",
              "</div>"
            ],
            "text/plain": [
              "     User-ID  ... 1 Counts\n",
              "Inde          ...         \n",
              "0     U13740  ...       10\n",
              "1     U91836  ...       83\n",
              "2     U73700  ...       17\n",
              "3     U34670  ...       11\n",
              "4      U8125  ...        5\n",
              "\n",
              "[5 rows x 4 columns]"
            ]
          },
          "metadata": {
            "tags": []
          },
          "execution_count": 7
        }
      ]
    },
    {
      "cell_type": "markdown",
      "metadata": {
        "id": "ihwiXN9JgNqF"
      },
      "source": [
        "### Removing Users with less than 300 interactions"
      ]
    },
    {
      "cell_type": "code",
      "metadata": {
        "id": "hVKFtjsij-fh",
        "colab": {
          "base_uri": "https://localhost:8080/",
          "height": 238
        },
        "outputId": "f6859153-b693-48e4-fac6-aa2f3a8a3b14"
      },
      "source": [
        "xyz = []\n",
        "for i in range(len(behavior_data['X'])):\n",
        "  if(len(behavior_data['X'].iloc[i]) < 300):\n",
        "    xyz.append(i)\n",
        "    \n",
        "update_bd = behavior_data.drop(xyz)\n",
        "inde = []\n",
        "for i in range(len(update_bd['User-ID'])):\n",
        "  inde.append(i)\n",
        "update_bd['Inde'] = inde\n",
        "update_bd = update_bd.set_index('Inde')\n",
        "update_bd.head(5)\n",
        "# X = np.array(update_bd['Split Impressions'].iloc[0])\n",
        "#   # create train and test\n",
        "# tpercent = 0.9\n",
        "# tsize = int(np.floor(tpercent * len(update_bd['Split Impressions'].iloc[0])))\n",
        "# bd_train = X[:tsize]\n",
        "# bd_test = X[tsize:]\n",
        "# #len of train and test\n",
        "# lentrain = len(bd_train)\n",
        "# lentest = len(bd_test)\n",
        "# # print(lentrain)\n",
        "# # print(lentest)\n",
        "\n",
        "# #sum_.sort(reverse=True)\n",
        "# update_bd\n",
        "# # print(update_bd['No of ones'])\n",
        "# # print(len(update_bd.loc[4764,'Split Impressions'])) \n",
        "# # update_bd['Split Impressions'].iloc[0]"
      ],
      "execution_count": 8,
      "outputs": [
        {
          "output_type": "execute_result",
          "data": {
            "text/html": [
              "<div>\n",
              "<style scoped>\n",
              "    .dataframe tbody tr th:only-of-type {\n",
              "        vertical-align: middle;\n",
              "    }\n",
              "\n",
              "    .dataframe tbody tr th {\n",
              "        vertical-align: top;\n",
              "    }\n",
              "\n",
              "    .dataframe thead th {\n",
              "        text-align: right;\n",
              "    }\n",
              "</style>\n",
              "<table border=\"1\" class=\"dataframe\">\n",
              "  <thead>\n",
              "    <tr style=\"text-align: right;\">\n",
              "      <th></th>\n",
              "      <th>User-ID</th>\n",
              "      <th>X</th>\n",
              "      <th>Y</th>\n",
              "      <th>1 Counts</th>\n",
              "    </tr>\n",
              "    <tr>\n",
              "      <th>Inde</th>\n",
              "      <th></th>\n",
              "      <th></th>\n",
              "      <th></th>\n",
              "      <th></th>\n",
              "    </tr>\n",
              "  </thead>\n",
              "  <tbody>\n",
              "    <tr>\n",
              "      <th>0</th>\n",
              "      <td>U89744</td>\n",
              "      <td>[N24422, N25287, N39121, N41777, N58226, N119,...</td>\n",
              "      <td>[1, 1, 1, 1, 1, 1, 1, 1, 1, 1, 1, 1, 1, 1, 1, ...</td>\n",
              "      <td>80</td>\n",
              "    </tr>\n",
              "    <tr>\n",
              "      <th>1</th>\n",
              "      <td>U76446</td>\n",
              "      <td>[N20100, N65066, N10235, N49745, N53879, N4306...</td>\n",
              "      <td>[1, 1, 1, 1, 1, 1, 1, 1, 1, 1, 1, 1, 1, 1, 1, ...</td>\n",
              "      <td>77</td>\n",
              "    </tr>\n",
              "    <tr>\n",
              "      <th>2</th>\n",
              "      <td>U67455</td>\n",
              "      <td>[N7432, N55829, N44798, N31457, N61864, N13142...</td>\n",
              "      <td>[1, 1, 1, 1, 1, 1, 1, 1, 1, 1, 1, 1, 1, 1, 1, ...</td>\n",
              "      <td>280</td>\n",
              "    </tr>\n",
              "    <tr>\n",
              "      <th>3</th>\n",
              "      <td>U18588</td>\n",
              "      <td>[N26136, N43353, N10732, N51483, N20044, N5111...</td>\n",
              "      <td>[1, 1, 1, 1, 1, 1, 1, 1, 1, 1, 1, 1, 1, 1, 1, ...</td>\n",
              "      <td>287</td>\n",
              "    </tr>\n",
              "    <tr>\n",
              "      <th>4</th>\n",
              "      <td>U54826</td>\n",
              "      <td>[N38688, N3501, N60242, N23402, N45354, N163, ...</td>\n",
              "      <td>[1, 1, 1, 1, 1, 1, 1, 1, 1, 1, 1, 1, 1, 1, 1, ...</td>\n",
              "      <td>325</td>\n",
              "    </tr>\n",
              "  </tbody>\n",
              "</table>\n",
              "</div>"
            ],
            "text/plain": [
              "     User-ID  ... 1 Counts\n",
              "Inde          ...         \n",
              "0     U89744  ...       80\n",
              "1     U76446  ...       77\n",
              "2     U67455  ...      280\n",
              "3     U18588  ...      287\n",
              "4     U54826  ...      325\n",
              "\n",
              "[5 rows x 4 columns]"
            ]
          },
          "metadata": {
            "tags": []
          },
          "execution_count": 8
        }
      ]
    },
    {
      "cell_type": "code",
      "metadata": {
        "id": "t70edl2suMzB"
      },
      "source": [
        "# # For a specific user at index 0\n",
        "# X = np.array(update_bd['X'].iloc[0])\n",
        "#   # create train and test\n",
        "# tpercent = 0.9\n",
        "# tsize = int(np.floor(tpercent * len(update_bd['X'].iloc[0])))\n",
        "# bd_train_X = X[:tsize]\n",
        "# bd_test_X = X[tsize:]\n",
        "# #len of train and test\n",
        "# lentrain_X = len(bd_train_X)\n",
        "# lentest_X = len(bd_test_X)\n",
        "# print(lentrain_X)\n",
        "# print(lentest_X)\n",
        "# max(sum_final)\n",
        "# count_1 = update_bd['1 Counts'].values.tolist()\n",
        "# count_1.index(569)\n",
        "# count` = np.array(update_bd['X'].iloc[len(update_bd['X'])-1])\n",
        "def get_data_from_index(index):\n",
        "  X = np.array(update_bd['X'].iloc[index])\n",
        "  Y = np.array(update_bd['Y'].iloc[index])\n",
        "  X.size\n",
        "  return find_indices(X, Y)\n"
      ],
      "execution_count": 9,
      "outputs": []
    },
    {
      "cell_type": "markdown",
      "metadata": {
        "id": "N2AqgKd2gWsV"
      },
      "source": [
        "### Feature Extraction using One Hot Encoding\n",
        "\n",
        "* Finding Unique features \n",
        "*  Assigning labels to the features\n",
        "*  Quantization using One Hot Encoding\n"
      ]
    },
    {
      "cell_type": "code",
      "metadata": {
        "id": "r9UT5c4d3_YG"
      },
      "source": [
        "categories = np.unique(news_data['Category'])\n",
        "subcategories = np.unique(news_data['Sub-Category'])\n",
        "features = np.concatenate((categories,subcategories))"
      ],
      "execution_count": 10,
      "outputs": []
    },
    {
      "cell_type": "code",
      "metadata": {
        "id": "s75rbx7t_xec"
      },
      "source": [
        "from sklearn.preprocessing import LabelEncoder\n",
        "gle = LabelEncoder()\n",
        "feature_labels = gle.fit_transform(features)\n",
        "feature_mappings = {index: label for index, label in \n",
        "                  enumerate(gle.classes_)}                 "
      ],
      "execution_count": 11,
      "outputs": []
    },
    {
      "cell_type": "code",
      "metadata": {
        "id": "EczHRKRGBynD"
      },
      "source": [
        "from sklearn.preprocessing import OneHotEncoder, LabelEncoder\n",
        "# transform and map news categories\n",
        "cat_le = LabelEncoder()\n",
        "cat_labels = cat_le.fit_transform(news_data['Category'])\n",
        "news_data['Cat_Label'] = cat_labels\n",
        "# transform and map news sub-categories\n",
        "sub_cat_le = LabelEncoder()\n",
        "sub_cat_labels = sub_cat_le.fit_transform(news_data['Sub-Category'])\n",
        "news_data['Sub_Cat_Label'] = sub_cat_labels\n",
        "news_data_sub = news_data[['News-ID', 'Category', 'Cat_Label', 'Sub-Category', 'Sub_Cat_Label']]\n",
        "#news_data.iloc[4:10] News-ID\tCategory\tSub-Category\tTitle\tAbstract\n",
        "# news_data_sub\n"
      ],
      "execution_count": 12,
      "outputs": []
    },
    {
      "cell_type": "code",
      "metadata": {
        "colab": {
          "base_uri": "https://localhost:8080/"
        },
        "id": "YSDqRRBXDP2e",
        "outputId": "039ea0c6-c490-4988-d625-fce0ad804b90"
      },
      "source": [
        "# encode category labels using one-hot encoding scheme\n",
        "cat_ohe = OneHotEncoder()\n",
        "cat_feature_arr = cat_ohe.fit_transform(news_data[['Cat_Label']]).toarray()\n",
        "cat_feature_labels = list(cat_le.classes_)\n",
        "cat_features = pd.DataFrame(cat_feature_arr, columns=cat_feature_labels)\n",
        "# encode legendary status labels using one-hot encoding scheme\n",
        "sub_cat_ohe = OneHotEncoder()\n",
        "sub_cat_feature_arr = sub_cat_ohe.fit_transform(news_data[['Sub_Cat_Label']]).toarray()\n",
        "sub_cat_feature_labels = list(sub_cat_le.classes_)\n",
        "sub_cat_features = pd.DataFrame(sub_cat_feature_arr, columns=sub_cat_feature_labels)\n",
        "cat_feature_labels"
      ],
      "execution_count": 13,
      "outputs": [
        {
          "output_type": "execute_result",
          "data": {
            "text/plain": [
              "['autos',\n",
              " 'entertainment',\n",
              " 'finance',\n",
              " 'foodanddrink',\n",
              " 'health',\n",
              " 'kids',\n",
              " 'lifestyle',\n",
              " 'middleeast',\n",
              " 'movies',\n",
              " 'music',\n",
              " 'news',\n",
              " 'northamerica',\n",
              " 'sports',\n",
              " 'travel',\n",
              " 'tv',\n",
              " 'video',\n",
              " 'weather']"
            ]
          },
          "metadata": {
            "tags": []
          },
          "execution_count": 13
        }
      ]
    },
    {
      "cell_type": "code",
      "metadata": {
        "id": "sTKJSHV0ELVn",
        "colab": {
          "base_uri": "https://localhost:8080/",
          "height": 308
        },
        "outputId": "1f2493fe-d74d-4701-b122-f910fea40532"
      },
      "source": [
        "news_data_ohe = pd.concat([cat_features, sub_cat_features], axis=1)\n",
        "# columns = sum([['News-ID', 'Category', 'Cat_Label'],   \n",
        "#                cat_feature_labels, ['Sub-Category','Sub_Cat_Label'], \n",
        "#                sub_cat_feature_labels], [])\n",
        "news_data_ohe.head()\n",
        "# News-ID\tCategory\tSub-Category\tTitle\tAbstract"
      ],
      "execution_count": 14,
      "outputs": [
        {
          "output_type": "execute_result",
          "data": {
            "text/html": [
              "<div>\n",
              "<style scoped>\n",
              "    .dataframe tbody tr th:only-of-type {\n",
              "        vertical-align: middle;\n",
              "    }\n",
              "\n",
              "    .dataframe tbody tr th {\n",
              "        vertical-align: top;\n",
              "    }\n",
              "\n",
              "    .dataframe thead th {\n",
              "        text-align: right;\n",
              "    }\n",
              "</style>\n",
              "<table border=\"1\" class=\"dataframe\">\n",
              "  <thead>\n",
              "    <tr style=\"text-align: right;\">\n",
              "      <th></th>\n",
              "      <th>autos</th>\n",
              "      <th>entertainment</th>\n",
              "      <th>finance</th>\n",
              "      <th>foodanddrink</th>\n",
              "      <th>health</th>\n",
              "      <th>kids</th>\n",
              "      <th>lifestyle</th>\n",
              "      <th>middleeast</th>\n",
              "      <th>movies</th>\n",
              "      <th>music</th>\n",
              "      <th>news</th>\n",
              "      <th>northamerica</th>\n",
              "      <th>sports</th>\n",
              "      <th>travel</th>\n",
              "      <th>tv</th>\n",
              "      <th>video</th>\n",
              "      <th>weather</th>\n",
              "      <th>ads-latingrammys</th>\n",
              "      <th>ads-lung-health</th>\n",
              "      <th>advice</th>\n",
              "      <th>animals</th>\n",
              "      <th>autosbuying</th>\n",
              "      <th>autoscartech</th>\n",
              "      <th>autosclassics</th>\n",
              "      <th>autoscompact</th>\n",
              "      <th>autosenthusiasts</th>\n",
              "      <th>autoshybrids</th>\n",
              "      <th>autoslosangeles</th>\n",
              "      <th>autosluxury</th>\n",
              "      <th>autosmidsize</th>\n",
              "      <th>autosmotorcycles</th>\n",
              "      <th>autosnews</th>\n",
              "      <th>autosownership</th>\n",
              "      <th>autospassenger</th>\n",
              "      <th>autosresearch</th>\n",
              "      <th>autosresearchguides</th>\n",
              "      <th>autosreview</th>\n",
              "      <th>autossema</th>\n",
              "      <th>autossports</th>\n",
              "      <th>autossuvs</th>\n",
              "      <th>...</th>\n",
              "      <th>sports_news</th>\n",
              "      <th>strength</th>\n",
              "      <th>technologyinvesting</th>\n",
              "      <th>tennis</th>\n",
              "      <th>tennis_intl</th>\n",
              "      <th>tipsandtricks</th>\n",
              "      <th>topnews</th>\n",
              "      <th>travel</th>\n",
              "      <th>travel-adventure-travel</th>\n",
              "      <th>travel-points-rewards</th>\n",
              "      <th>travel-videos</th>\n",
              "      <th>travelarticle</th>\n",
              "      <th>travelnews</th>\n",
              "      <th>traveltips</th>\n",
              "      <th>traveltripideas</th>\n",
              "      <th>traveltrivia</th>\n",
              "      <th>tunedin</th>\n",
              "      <th>tv</th>\n",
              "      <th>tv-celebrity</th>\n",
              "      <th>tv-gallery</th>\n",
              "      <th>tv-golden-globes</th>\n",
              "      <th>tv-golden-globes-video</th>\n",
              "      <th>tv-recaps</th>\n",
              "      <th>tv-reviews</th>\n",
              "      <th>tvnews</th>\n",
              "      <th>tvvideos</th>\n",
              "      <th>ustravel</th>\n",
              "      <th>video</th>\n",
              "      <th>videos</th>\n",
              "      <th>viral</th>\n",
              "      <th>voices</th>\n",
              "      <th>watch</th>\n",
              "      <th>weatherfullscreenmaps</th>\n",
              "      <th>weathertopstories</th>\n",
              "      <th>weight-loss</th>\n",
              "      <th>weightloss</th>\n",
              "      <th>wellness</th>\n",
              "      <th>wines</th>\n",
              "      <th>wonder</th>\n",
              "      <th>yearinoffbeatgoodnews</th>\n",
              "    </tr>\n",
              "  </thead>\n",
              "  <tbody>\n",
              "    <tr>\n",
              "      <th>0</th>\n",
              "      <td>0.0</td>\n",
              "      <td>0.0</td>\n",
              "      <td>0.0</td>\n",
              "      <td>0.0</td>\n",
              "      <td>0.0</td>\n",
              "      <td>0.0</td>\n",
              "      <td>1.0</td>\n",
              "      <td>0.0</td>\n",
              "      <td>0.0</td>\n",
              "      <td>0.0</td>\n",
              "      <td>0.0</td>\n",
              "      <td>0.0</td>\n",
              "      <td>0.0</td>\n",
              "      <td>0.0</td>\n",
              "      <td>0.0</td>\n",
              "      <td>0.0</td>\n",
              "      <td>0.0</td>\n",
              "      <td>0.0</td>\n",
              "      <td>0.0</td>\n",
              "      <td>0.0</td>\n",
              "      <td>0.0</td>\n",
              "      <td>0.0</td>\n",
              "      <td>0.0</td>\n",
              "      <td>0.0</td>\n",
              "      <td>0.0</td>\n",
              "      <td>0.0</td>\n",
              "      <td>0.0</td>\n",
              "      <td>0.0</td>\n",
              "      <td>0.0</td>\n",
              "      <td>0.0</td>\n",
              "      <td>0.0</td>\n",
              "      <td>0.0</td>\n",
              "      <td>0.0</td>\n",
              "      <td>0.0</td>\n",
              "      <td>0.0</td>\n",
              "      <td>0.0</td>\n",
              "      <td>0.0</td>\n",
              "      <td>0.0</td>\n",
              "      <td>0.0</td>\n",
              "      <td>0.0</td>\n",
              "      <td>...</td>\n",
              "      <td>0.0</td>\n",
              "      <td>0.0</td>\n",
              "      <td>0.0</td>\n",
              "      <td>0.0</td>\n",
              "      <td>0.0</td>\n",
              "      <td>0.0</td>\n",
              "      <td>0.0</td>\n",
              "      <td>0.0</td>\n",
              "      <td>0.0</td>\n",
              "      <td>0.0</td>\n",
              "      <td>0.0</td>\n",
              "      <td>0.0</td>\n",
              "      <td>0.0</td>\n",
              "      <td>0.0</td>\n",
              "      <td>0.0</td>\n",
              "      <td>0.0</td>\n",
              "      <td>0.0</td>\n",
              "      <td>0.0</td>\n",
              "      <td>0.0</td>\n",
              "      <td>0.0</td>\n",
              "      <td>0.0</td>\n",
              "      <td>0.0</td>\n",
              "      <td>0.0</td>\n",
              "      <td>0.0</td>\n",
              "      <td>0.0</td>\n",
              "      <td>0.0</td>\n",
              "      <td>0.0</td>\n",
              "      <td>0.0</td>\n",
              "      <td>0.0</td>\n",
              "      <td>0.0</td>\n",
              "      <td>0.0</td>\n",
              "      <td>0.0</td>\n",
              "      <td>0.0</td>\n",
              "      <td>0.0</td>\n",
              "      <td>0.0</td>\n",
              "      <td>0.0</td>\n",
              "      <td>0.0</td>\n",
              "      <td>0.0</td>\n",
              "      <td>0.0</td>\n",
              "      <td>0.0</td>\n",
              "    </tr>\n",
              "    <tr>\n",
              "      <th>1</th>\n",
              "      <td>0.0</td>\n",
              "      <td>0.0</td>\n",
              "      <td>0.0</td>\n",
              "      <td>0.0</td>\n",
              "      <td>1.0</td>\n",
              "      <td>0.0</td>\n",
              "      <td>0.0</td>\n",
              "      <td>0.0</td>\n",
              "      <td>0.0</td>\n",
              "      <td>0.0</td>\n",
              "      <td>0.0</td>\n",
              "      <td>0.0</td>\n",
              "      <td>0.0</td>\n",
              "      <td>0.0</td>\n",
              "      <td>0.0</td>\n",
              "      <td>0.0</td>\n",
              "      <td>0.0</td>\n",
              "      <td>0.0</td>\n",
              "      <td>0.0</td>\n",
              "      <td>0.0</td>\n",
              "      <td>0.0</td>\n",
              "      <td>0.0</td>\n",
              "      <td>0.0</td>\n",
              "      <td>0.0</td>\n",
              "      <td>0.0</td>\n",
              "      <td>0.0</td>\n",
              "      <td>0.0</td>\n",
              "      <td>0.0</td>\n",
              "      <td>0.0</td>\n",
              "      <td>0.0</td>\n",
              "      <td>0.0</td>\n",
              "      <td>0.0</td>\n",
              "      <td>0.0</td>\n",
              "      <td>0.0</td>\n",
              "      <td>0.0</td>\n",
              "      <td>0.0</td>\n",
              "      <td>0.0</td>\n",
              "      <td>0.0</td>\n",
              "      <td>0.0</td>\n",
              "      <td>0.0</td>\n",
              "      <td>...</td>\n",
              "      <td>0.0</td>\n",
              "      <td>0.0</td>\n",
              "      <td>0.0</td>\n",
              "      <td>0.0</td>\n",
              "      <td>0.0</td>\n",
              "      <td>0.0</td>\n",
              "      <td>0.0</td>\n",
              "      <td>0.0</td>\n",
              "      <td>0.0</td>\n",
              "      <td>0.0</td>\n",
              "      <td>0.0</td>\n",
              "      <td>0.0</td>\n",
              "      <td>0.0</td>\n",
              "      <td>0.0</td>\n",
              "      <td>0.0</td>\n",
              "      <td>0.0</td>\n",
              "      <td>0.0</td>\n",
              "      <td>0.0</td>\n",
              "      <td>0.0</td>\n",
              "      <td>0.0</td>\n",
              "      <td>0.0</td>\n",
              "      <td>0.0</td>\n",
              "      <td>0.0</td>\n",
              "      <td>0.0</td>\n",
              "      <td>0.0</td>\n",
              "      <td>0.0</td>\n",
              "      <td>0.0</td>\n",
              "      <td>0.0</td>\n",
              "      <td>0.0</td>\n",
              "      <td>0.0</td>\n",
              "      <td>0.0</td>\n",
              "      <td>0.0</td>\n",
              "      <td>0.0</td>\n",
              "      <td>0.0</td>\n",
              "      <td>0.0</td>\n",
              "      <td>1.0</td>\n",
              "      <td>0.0</td>\n",
              "      <td>0.0</td>\n",
              "      <td>0.0</td>\n",
              "      <td>0.0</td>\n",
              "    </tr>\n",
              "    <tr>\n",
              "      <th>2</th>\n",
              "      <td>0.0</td>\n",
              "      <td>0.0</td>\n",
              "      <td>0.0</td>\n",
              "      <td>0.0</td>\n",
              "      <td>0.0</td>\n",
              "      <td>0.0</td>\n",
              "      <td>0.0</td>\n",
              "      <td>0.0</td>\n",
              "      <td>0.0</td>\n",
              "      <td>0.0</td>\n",
              "      <td>1.0</td>\n",
              "      <td>0.0</td>\n",
              "      <td>0.0</td>\n",
              "      <td>0.0</td>\n",
              "      <td>0.0</td>\n",
              "      <td>0.0</td>\n",
              "      <td>0.0</td>\n",
              "      <td>0.0</td>\n",
              "      <td>0.0</td>\n",
              "      <td>0.0</td>\n",
              "      <td>0.0</td>\n",
              "      <td>0.0</td>\n",
              "      <td>0.0</td>\n",
              "      <td>0.0</td>\n",
              "      <td>0.0</td>\n",
              "      <td>0.0</td>\n",
              "      <td>0.0</td>\n",
              "      <td>0.0</td>\n",
              "      <td>0.0</td>\n",
              "      <td>0.0</td>\n",
              "      <td>0.0</td>\n",
              "      <td>0.0</td>\n",
              "      <td>0.0</td>\n",
              "      <td>0.0</td>\n",
              "      <td>0.0</td>\n",
              "      <td>0.0</td>\n",
              "      <td>0.0</td>\n",
              "      <td>0.0</td>\n",
              "      <td>0.0</td>\n",
              "      <td>0.0</td>\n",
              "      <td>...</td>\n",
              "      <td>0.0</td>\n",
              "      <td>0.0</td>\n",
              "      <td>0.0</td>\n",
              "      <td>0.0</td>\n",
              "      <td>0.0</td>\n",
              "      <td>0.0</td>\n",
              "      <td>0.0</td>\n",
              "      <td>0.0</td>\n",
              "      <td>0.0</td>\n",
              "      <td>0.0</td>\n",
              "      <td>0.0</td>\n",
              "      <td>0.0</td>\n",
              "      <td>0.0</td>\n",
              "      <td>0.0</td>\n",
              "      <td>0.0</td>\n",
              "      <td>0.0</td>\n",
              "      <td>0.0</td>\n",
              "      <td>0.0</td>\n",
              "      <td>0.0</td>\n",
              "      <td>0.0</td>\n",
              "      <td>0.0</td>\n",
              "      <td>0.0</td>\n",
              "      <td>0.0</td>\n",
              "      <td>0.0</td>\n",
              "      <td>0.0</td>\n",
              "      <td>0.0</td>\n",
              "      <td>0.0</td>\n",
              "      <td>0.0</td>\n",
              "      <td>0.0</td>\n",
              "      <td>0.0</td>\n",
              "      <td>0.0</td>\n",
              "      <td>0.0</td>\n",
              "      <td>0.0</td>\n",
              "      <td>0.0</td>\n",
              "      <td>0.0</td>\n",
              "      <td>0.0</td>\n",
              "      <td>0.0</td>\n",
              "      <td>0.0</td>\n",
              "      <td>0.0</td>\n",
              "      <td>0.0</td>\n",
              "    </tr>\n",
              "    <tr>\n",
              "      <th>3</th>\n",
              "      <td>0.0</td>\n",
              "      <td>0.0</td>\n",
              "      <td>0.0</td>\n",
              "      <td>0.0</td>\n",
              "      <td>1.0</td>\n",
              "      <td>0.0</td>\n",
              "      <td>0.0</td>\n",
              "      <td>0.0</td>\n",
              "      <td>0.0</td>\n",
              "      <td>0.0</td>\n",
              "      <td>0.0</td>\n",
              "      <td>0.0</td>\n",
              "      <td>0.0</td>\n",
              "      <td>0.0</td>\n",
              "      <td>0.0</td>\n",
              "      <td>0.0</td>\n",
              "      <td>0.0</td>\n",
              "      <td>0.0</td>\n",
              "      <td>0.0</td>\n",
              "      <td>0.0</td>\n",
              "      <td>0.0</td>\n",
              "      <td>0.0</td>\n",
              "      <td>0.0</td>\n",
              "      <td>0.0</td>\n",
              "      <td>0.0</td>\n",
              "      <td>0.0</td>\n",
              "      <td>0.0</td>\n",
              "      <td>0.0</td>\n",
              "      <td>0.0</td>\n",
              "      <td>0.0</td>\n",
              "      <td>0.0</td>\n",
              "      <td>0.0</td>\n",
              "      <td>0.0</td>\n",
              "      <td>0.0</td>\n",
              "      <td>0.0</td>\n",
              "      <td>0.0</td>\n",
              "      <td>0.0</td>\n",
              "      <td>0.0</td>\n",
              "      <td>0.0</td>\n",
              "      <td>0.0</td>\n",
              "      <td>...</td>\n",
              "      <td>0.0</td>\n",
              "      <td>0.0</td>\n",
              "      <td>0.0</td>\n",
              "      <td>0.0</td>\n",
              "      <td>0.0</td>\n",
              "      <td>0.0</td>\n",
              "      <td>0.0</td>\n",
              "      <td>0.0</td>\n",
              "      <td>0.0</td>\n",
              "      <td>0.0</td>\n",
              "      <td>0.0</td>\n",
              "      <td>0.0</td>\n",
              "      <td>0.0</td>\n",
              "      <td>0.0</td>\n",
              "      <td>0.0</td>\n",
              "      <td>0.0</td>\n",
              "      <td>0.0</td>\n",
              "      <td>0.0</td>\n",
              "      <td>0.0</td>\n",
              "      <td>0.0</td>\n",
              "      <td>0.0</td>\n",
              "      <td>0.0</td>\n",
              "      <td>0.0</td>\n",
              "      <td>0.0</td>\n",
              "      <td>0.0</td>\n",
              "      <td>0.0</td>\n",
              "      <td>0.0</td>\n",
              "      <td>0.0</td>\n",
              "      <td>0.0</td>\n",
              "      <td>0.0</td>\n",
              "      <td>1.0</td>\n",
              "      <td>0.0</td>\n",
              "      <td>0.0</td>\n",
              "      <td>0.0</td>\n",
              "      <td>0.0</td>\n",
              "      <td>0.0</td>\n",
              "      <td>0.0</td>\n",
              "      <td>0.0</td>\n",
              "      <td>0.0</td>\n",
              "      <td>0.0</td>\n",
              "    </tr>\n",
              "    <tr>\n",
              "      <th>4</th>\n",
              "      <td>0.0</td>\n",
              "      <td>0.0</td>\n",
              "      <td>0.0</td>\n",
              "      <td>0.0</td>\n",
              "      <td>1.0</td>\n",
              "      <td>0.0</td>\n",
              "      <td>0.0</td>\n",
              "      <td>0.0</td>\n",
              "      <td>0.0</td>\n",
              "      <td>0.0</td>\n",
              "      <td>0.0</td>\n",
              "      <td>0.0</td>\n",
              "      <td>0.0</td>\n",
              "      <td>0.0</td>\n",
              "      <td>0.0</td>\n",
              "      <td>0.0</td>\n",
              "      <td>0.0</td>\n",
              "      <td>0.0</td>\n",
              "      <td>0.0</td>\n",
              "      <td>0.0</td>\n",
              "      <td>0.0</td>\n",
              "      <td>0.0</td>\n",
              "      <td>0.0</td>\n",
              "      <td>0.0</td>\n",
              "      <td>0.0</td>\n",
              "      <td>0.0</td>\n",
              "      <td>0.0</td>\n",
              "      <td>0.0</td>\n",
              "      <td>0.0</td>\n",
              "      <td>0.0</td>\n",
              "      <td>0.0</td>\n",
              "      <td>0.0</td>\n",
              "      <td>0.0</td>\n",
              "      <td>0.0</td>\n",
              "      <td>0.0</td>\n",
              "      <td>0.0</td>\n",
              "      <td>0.0</td>\n",
              "      <td>0.0</td>\n",
              "      <td>0.0</td>\n",
              "      <td>0.0</td>\n",
              "      <td>...</td>\n",
              "      <td>0.0</td>\n",
              "      <td>0.0</td>\n",
              "      <td>0.0</td>\n",
              "      <td>0.0</td>\n",
              "      <td>0.0</td>\n",
              "      <td>0.0</td>\n",
              "      <td>0.0</td>\n",
              "      <td>0.0</td>\n",
              "      <td>0.0</td>\n",
              "      <td>0.0</td>\n",
              "      <td>0.0</td>\n",
              "      <td>0.0</td>\n",
              "      <td>0.0</td>\n",
              "      <td>0.0</td>\n",
              "      <td>0.0</td>\n",
              "      <td>0.0</td>\n",
              "      <td>0.0</td>\n",
              "      <td>0.0</td>\n",
              "      <td>0.0</td>\n",
              "      <td>0.0</td>\n",
              "      <td>0.0</td>\n",
              "      <td>0.0</td>\n",
              "      <td>0.0</td>\n",
              "      <td>0.0</td>\n",
              "      <td>0.0</td>\n",
              "      <td>0.0</td>\n",
              "      <td>0.0</td>\n",
              "      <td>0.0</td>\n",
              "      <td>0.0</td>\n",
              "      <td>0.0</td>\n",
              "      <td>0.0</td>\n",
              "      <td>0.0</td>\n",
              "      <td>0.0</td>\n",
              "      <td>0.0</td>\n",
              "      <td>0.0</td>\n",
              "      <td>0.0</td>\n",
              "      <td>0.0</td>\n",
              "      <td>0.0</td>\n",
              "      <td>0.0</td>\n",
              "      <td>0.0</td>\n",
              "    </tr>\n",
              "  </tbody>\n",
              "</table>\n",
              "<p>5 rows × 281 columns</p>\n",
              "</div>"
            ],
            "text/plain": [
              "   autos  entertainment  finance  ...  wines  wonder  yearinoffbeatgoodnews\n",
              "0    0.0            0.0      0.0  ...    0.0     0.0                    0.0\n",
              "1    0.0            0.0      0.0  ...    0.0     0.0                    0.0\n",
              "2    0.0            0.0      0.0  ...    0.0     0.0                    0.0\n",
              "3    0.0            0.0      0.0  ...    0.0     0.0                    0.0\n",
              "4    0.0            0.0      0.0  ...    0.0     0.0                    0.0\n",
              "\n",
              "[5 rows x 281 columns]"
            ]
          },
          "metadata": {
            "tags": []
          },
          "execution_count": 14
        }
      ]
    },
    {
      "cell_type": "code",
      "metadata": {
        "id": "KI8oiE_zKz2X"
      },
      "source": [
        "def find_indices(x,y):\n",
        "  indices = []\n",
        "  for i in x:\n",
        "    for j in range(len(news_data['News-ID'])):\n",
        "      if(i == news_data['News-ID'].iloc[j]):\n",
        "        indices.append(j)\n",
        "        break\n",
        "  return split_test_train(indices,y)      "
      ],
      "execution_count": 15,
      "outputs": []
    },
    {
      "cell_type": "markdown",
      "metadata": {
        "id": "M1hlxJ8LhB5h"
      },
      "source": [
        "## Training Testing Data Split"
      ]
    },
    {
      "cell_type": "code",
      "metadata": {
        "id": "9uEETf7qLfwS"
      },
      "source": [
        "def split_test_train(indices,Y):\n",
        "  from sklearn.model_selection import train_test_split\n",
        "  X_features = []\n",
        "  for i in indices:\n",
        "    X_features.append(news_data_ohe.loc[i].values.flatten().tolist())\n",
        "  X_train , X_test , y_train , y_test = train_test_split(X_features , Y , test_size = 0.2, random_state = 24)\n",
        "  return grid_search(X_train ,y_train , X_test ,  y_test)\n",
        "  #print(show_recommendations(\"U85744\", X_train, y_train))\n",
        "\n"
      ],
      "execution_count": 16,
      "outputs": []
    },
    {
      "cell_type": "markdown",
      "metadata": {
        "id": "qO3T7Dd48Ljd"
      },
      "source": [
        "## Model Training"
      ]
    },
    {
      "cell_type": "code",
      "metadata": {
        "id": "4gJpPoBr8P1r"
      },
      "source": [
        "# from sklearn.svm import SVC\n",
        "# from sklearn.metrics import classification_report, accuracy_score, confusion_matrix\n",
        "\n",
        "# def run_SVC(typeOfKernel, degree=2, C=50, gamma=0.01, Xtrain = X_train, ytrain = y_train, Xtest = X_test):\n",
        "#   if typeOfKernel == 'linear':\n",
        "#     svcclassifier = SVC(kernel='linear')\n",
        "#   elif typeOfKernel == 'poly':\n",
        "#     svcclassifier = SVC(kernel='poly', degree=degree, C=C, gamma=gamma)\n",
        "#   elif typeOfKernel == 'rbf':\n",
        "#     svcclassifier = SVC(kernel='rbf', C=C, gamma=gamma)\n",
        "#   svcclassifier.fit(Xtrain, ytrain)\n",
        "#   return svcclassifier.predict(Xtest);\n",
        "\n",
        "# def disp_report(typeOfKernel, ytest , ypred):\n",
        "#   print(\"Accuracy:\", accuracy_score(ytest, ypred))\n",
        "#   results[typeOfKernel] = accuracy_score(ytest, ypred)\n",
        "#   print(\"Report: \")\n",
        "#   print(classification_report(ytest, ypred))"
      ],
      "execution_count": null,
      "outputs": []
    },
    {
      "cell_type": "code",
      "metadata": {
        "id": "nJZgz4kCmKBi"
      },
      "source": [
        "# results={}"
      ],
      "execution_count": null,
      "outputs": []
    },
    {
      "cell_type": "code",
      "metadata": {
        "id": "B3zN8SCzemDa"
      },
      "source": [
        "# y_pred_lin = run_SVC('linear', Xtrain = X_train,ytrain = y_train, Xtest = X_test)\n",
        "# disp_report('linear', y_test, y_pred_lin)"
      ],
      "execution_count": null,
      "outputs": []
    },
    {
      "cell_type": "code",
      "metadata": {
        "id": "nzWG6qjMhndQ"
      },
      "source": [
        "# y_pred_poly = run_SVC('poly', 2, 2, 0.1, Xtrain = X_train,ytrain = y_train, Xtest = X_test)\n",
        "# disp_report('poly', y_test, y_pred_poly)"
      ],
      "execution_count": null,
      "outputs": []
    },
    {
      "cell_type": "code",
      "metadata": {
        "id": "zpZb0bYiiDBQ"
      },
      "source": [
        "# y_pred_rbf = run_SVC('rbf',C = 50, gamma = 0.01, Xtrain = X_train,ytrain = y_train, Xtest = X_test)\n",
        "# disp_report('rbf', y_test, y_pred_poly)"
      ],
      "execution_count": null,
      "outputs": []
    },
    {
      "cell_type": "markdown",
      "metadata": {
        "id": "v-LW1cbumnta"
      },
      "source": [
        "### Applying Grid Search algo to get best set of features for the best results."
      ]
    },
    {
      "cell_type": "code",
      "metadata": {
        "id": "OSyE99k1mmnO"
      },
      "source": [
        "def grid_search(X_train,y_train,X_test,y_test):\n",
        "  from sklearn.svm import SVC\n",
        "  from sklearn.metrics import classification_report, accuracy_score, confusion_matrix, plot_confusion_matrix\n",
        "  from sklearn.model_selection import GridSearchCV, ParameterGrid\n",
        "  import matplotlib.pyplot as plt\n",
        "  \n",
        "  param_grid = [{'kernel': ['linear']}, {'kernel': ['poly','rbf'], 'C': [0.1,1,2,4,8,16,32,50,64,100,1000],'degree' :  [2, 3, 4],\n",
        "  'gamma': [0.0001,0.001,0.005,0.01,0.1, 1, 3, 5]}]\n",
        "  print(\"Total length to check for best model and parameters: \",len(list(ParameterGrid(param_grid))))\n",
        "  gsc = GridSearchCV(SVC(),param_grid,scoring='accuracy',cv=5)\n",
        "  grid_result = gsc.fit(X_train, y_train)\n",
        "  print(\"Best Parameters: \", grid_result.best_params_)\n",
        "  print(\"Best Estimator: \", grid_result.best_estimator_)\n",
        "  print(\"Best Score: \", grid_result.best_score_)\n",
        "  y_pred = grid_result.predict(X_test)\n",
        "  acc = accuracy_score(y_test, y_pred)\n",
        "  classreport = classification_report(y_test, y_pred)\n",
        "  print(\"Accuracy:\", acc)\n",
        "  print(\"Classification Report: \")\n",
        "  print(classreport)\n",
        "  print(\"Confusion Matrix: \")\n",
        "  confus_mat = confusion_matrix(y_test, y_pred)\n",
        "  plot_confusion_matrix(gsc, X_test, y_test)\n",
        "  plt.show()\n",
        "  # show_recommendations()\n",
        "  return acc"
      ],
      "execution_count": 17,
      "outputs": []
    },
    {
      "cell_type": "code",
      "metadata": {
        "colab": {
          "base_uri": "https://localhost:8080/",
          "height": 1000
        },
        "id": "Djxi9E6U4Jec",
        "outputId": "fdc4d516-7638-4d1e-e0d3-aa340ec1f680"
      },
      "source": [
        "output = []\n",
        "for i in range(60,85):\n",
        "  output.append(get_data_from_index(i))\n",
        "# avg_acc = sum(accu)/len(accu)\n",
        "# avg_acc"
      ],
      "execution_count": null,
      "outputs": [
        {
          "output_type": "stream",
          "text": [
            "Total length to check for best model and parameters:  529\n",
            "Best Parameters:  {'C': 64, 'degree': 3, 'gamma': 0.1, 'kernel': 'poly'}\n",
            "Best Estimator:  SVC(C=64, break_ties=False, cache_size=200, class_weight=None, coef0=0.0,\n",
            "    decision_function_shape='ovr', degree=3, gamma=0.1, kernel='poly',\n",
            "    max_iter=-1, probability=False, random_state=None, shrinking=True,\n",
            "    tol=0.001, verbose=False)\n",
            "Best Score:  0.8864296081277214\n",
            "Accuracy: 0.9090909090909091\n",
            "Classification Report: \n",
            "              precision    recall  f1-score   support\n",
            "\n",
            "           0       0.00      0.00      0.00         5\n",
            "           1       0.92      0.98      0.95        61\n",
            "\n",
            "    accuracy                           0.91        66\n",
            "   macro avg       0.46      0.49      0.48        66\n",
            "weighted avg       0.85      0.91      0.88        66\n",
            "\n",
            "Confusion Matrix: \n"
          ],
          "name": "stdout"
        },
        {
          "output_type": "display_data",
          "data": {
            "image/png": "[encoded data removed]",
            "text/plain": [
              "<Figure size 432x288 with 2 Axes>"
            ]
          },
          "metadata": {
            "tags": [],
            "needs_background": "light"
          }
        },
        {
          "output_type": "stream",
          "text": [
            "Total length to check for best model and parameters:  529\n",
            "Best Parameters:  {'C': 0.1, 'degree': 2, 'gamma': 0.0001, 'kernel': 'poly'}\n",
            "Best Estimator:  SVC(C=0.1, break_ties=False, cache_size=200, class_weight=None, coef0=0.0,\n",
            "    decision_function_shape='ovr', degree=2, gamma=0.0001, kernel='poly',\n",
            "    max_iter=-1, probability=False, random_state=None, shrinking=True,\n",
            "    tol=0.001, verbose=False)\n",
            "Best Score:  0.9326274509803921\n",
            "Accuracy: 0.8888888888888888\n",
            "Classification Report: \n",
            "              precision    recall  f1-score   support\n",
            "\n",
            "           0       0.00      0.00      0.00         7\n",
            "           1       0.89      1.00      0.94        56\n",
            "\n",
            "    accuracy                           0.89        63\n",
            "   macro avg       0.44      0.50      0.47        63\n",
            "weighted avg       0.79      0.89      0.84        63\n",
            "\n",
            "Confusion Matrix: \n"
          ],
          "name": "stdout"
        },
        {
          "output_type": "stream",
          "text": [
            "/usr/local/lib/python3.7/dist-packages/sklearn/metrics/_classification.py:1272: UndefinedMetricWarning: Precision and F-score are ill-defined and being set to 0.0 in labels with no predicted samples. Use `zero_division` parameter to control this behavior.\n",
            "  _warn_prf(average, modifier, msg_start, len(result))\n"
          ],
          "name": "stderr"
        },
        {
          "output_type": "display_data",
          "data": {
            "image/png": "[encoded data removed]",
            "text/plain": [
              "<Figure size 432x288 with 2 Axes>"
            ]
          },
          "metadata": {
            "tags": [],
            "needs_background": "light"
          }
        },
        {
          "output_type": "stream",
          "text": [
            "Total length to check for best model and parameters:  529\n",
            "Best Parameters:  {'C': 64, 'degree': 3, 'gamma': 0.1, 'kernel': 'poly'}\n",
            "Best Estimator:  SVC(C=64, break_ties=False, cache_size=200, class_weight=None, coef0=0.0,\n",
            "    decision_function_shape='ovr', degree=3, gamma=0.1, kernel='poly',\n",
            "    max_iter=-1, probability=False, random_state=None, shrinking=True,\n",
            "    tol=0.001, verbose=False)\n",
            "Best Score:  0.7284013605442177\n",
            "Accuracy: 0.7049180327868853\n",
            "Classification Report: \n",
            "              precision    recall  f1-score   support\n",
            "\n",
            "           0       0.74      0.91      0.82        44\n",
            "           1       0.43      0.18      0.25        17\n",
            "\n",
            "    accuracy                           0.70        61\n",
            "   macro avg       0.58      0.54      0.53        61\n",
            "weighted avg       0.65      0.70      0.66        61\n",
            "\n",
            "Confusion Matrix: \n"
          ],
          "name": "stdout"
        },
        {
          "output_type": "display_data",
          "data": {
            "image/png": "[encoded data removed]",
            "text/plain": [
              "<Figure size 432x288 with 2 Axes>"
            ]
          },
          "metadata": {
            "tags": [],
            "needs_background": "light"
          }
        },
        {
          "output_type": "stream",
          "text": [
            "Total length to check for best model and parameters:  529\n",
            "Best Parameters:  {'C': 0.1, 'degree': 2, 'gamma': 0.0001, 'kernel': 'poly'}\n",
            "Best Estimator:  SVC(C=0.1, break_ties=False, cache_size=200, class_weight=None, coef0=0.0,\n",
            "    decision_function_shape='ovr', degree=2, gamma=0.0001, kernel='poly',\n",
            "    max_iter=-1, probability=False, random_state=None, shrinking=True,\n",
            "    tol=0.001, verbose=False)\n",
            "Best Score:  0.8396358543417367\n",
            "Accuracy: 0.8113207547169812\n",
            "Classification Report: \n",
            "              precision    recall  f1-score   support\n",
            "\n",
            "           0       0.00      0.00      0.00        20\n",
            "           1       0.81      1.00      0.90        86\n",
            "\n",
            "    accuracy                           0.81       106\n",
            "   macro avg       0.41      0.50      0.45       106\n",
            "weighted avg       0.66      0.81      0.73       106\n",
            "\n",
            "Confusion Matrix: \n"
          ],
          "name": "stdout"
        },
        {
          "output_type": "stream",
          "text": [
            "/usr/local/lib/python3.7/dist-packages/sklearn/metrics/_classification.py:1272: UndefinedMetricWarning: Precision and F-score are ill-defined and being set to 0.0 in labels with no predicted samples. Use `zero_division` parameter to control this behavior.\n",
            "  _warn_prf(average, modifier, msg_start, len(result))\n"
          ],
          "name": "stderr"
        },
        {
          "output_type": "display_data",
          "data": {
            "image/png": "[encoded data removed]",
            "text/plain": [
              "<Figure size 432x288 with 2 Axes>"
            ]
          },
          "metadata": {
            "tags": [],
            "needs_background": "light"
          }
        },
        {
          "output_type": "stream",
          "text": [
            "Total length to check for best model and parameters:  529\n",
            "Best Parameters:  {'C': 8, 'degree': 2, 'gamma': 0.1, 'kernel': 'poly'}\n",
            "Best Estimator:  SVC(C=8, break_ties=False, cache_size=200, class_weight=None, coef0=0.0,\n",
            "    decision_function_shape='ovr', degree=2, gamma=0.1, kernel='poly',\n",
            "    max_iter=-1, probability=False, random_state=None, shrinking=True,\n",
            "    tol=0.001, verbose=False)\n",
            "Best Score:  0.6573333333333334\n",
            "Accuracy: 0.6349206349206349\n",
            "Classification Report: \n",
            "              precision    recall  f1-score   support\n",
            "\n",
            "           0       0.50      0.26      0.34        23\n",
            "           1       0.67      0.85      0.75        40\n",
            "\n",
            "    accuracy                           0.63        63\n",
            "   macro avg       0.58      0.56      0.55        63\n",
            "weighted avg       0.61      0.63      0.60        63\n",
            "\n",
            "Confusion Matrix: \n"
          ],
          "name": "stdout"
        },
        {
          "output_type": "display_data",
          "data": {
            "image/png": "[encoded data removed]",
            "text/plain": [
              "<Figure size 432x288 with 2 Axes>"
            ]
          },
          "metadata": {
            "tags": [],
            "needs_background": "light"
          }
        },
        {
          "output_type": "stream",
          "text": [
            "Total length to check for best model and parameters:  529\n",
            "Best Parameters:  {'C': 0.1, 'degree': 2, 'gamma': 0.0001, 'kernel': 'poly'}\n",
            "Best Estimator:  SVC(C=0.1, break_ties=False, cache_size=200, class_weight=None, coef0=0.0,\n",
            "    decision_function_shape='ovr', degree=2, gamma=0.0001, kernel='poly',\n",
            "    max_iter=-1, probability=False, random_state=None, shrinking=True,\n",
            "    tol=0.001, verbose=False)\n",
            "Best Score:  0.8665191146881288\n",
            "Accuracy: 0.8409090909090909\n",
            "Classification Report: \n",
            "              precision    recall  f1-score   support\n",
            "\n",
            "           0       0.00      0.00      0.00        14\n",
            "           1       0.84      1.00      0.91        74\n",
            "\n",
            "    accuracy                           0.84        88\n",
            "   macro avg       0.42      0.50      0.46        88\n",
            "weighted avg       0.71      0.84      0.77        88\n",
            "\n",
            "Confusion Matrix: \n"
          ],
          "name": "stdout"
        },
        {
          "output_type": "stream",
          "text": [
            "/usr/local/lib/python3.7/dist-packages/sklearn/metrics/_classification.py:1272: UndefinedMetricWarning: Precision and F-score are ill-defined and being set to 0.0 in labels with no predicted samples. Use `zero_division` parameter to control this behavior.\n",
            "  _warn_prf(average, modifier, msg_start, len(result))\n"
          ],
          "name": "stderr"
        },
        {
          "output_type": "display_data",
          "data": {
            "image/png": "[encoded data removed]",
            "text/plain": [
              "<Figure size 432x288 with 2 Axes>"
            ]
          },
          "metadata": {
            "tags": [],
            "needs_background": "light"
          }
        },
        {
          "output_type": "stream",
          "text": [
            "Total length to check for best model and parameters:  529\n",
            "Best Parameters:  {'C': 0.1, 'degree': 3, 'gamma': 1, 'kernel': 'poly'}\n",
            "Best Estimator:  SVC(C=0.1, break_ties=False, cache_size=200, class_weight=None, coef0=0.0,\n",
            "    decision_function_shape='ovr', degree=3, gamma=1, kernel='poly',\n",
            "    max_iter=-1, probability=False, random_state=None, shrinking=True,\n",
            "    tol=0.001, verbose=False)\n",
            "Best Score:  0.9433469387755101\n",
            "Accuracy: 0.9354838709677419\n",
            "Classification Report: \n",
            "              precision    recall  f1-score   support\n",
            "\n",
            "           0       0.93      1.00      0.97        57\n",
            "           1       1.00      0.20      0.33         5\n",
            "\n",
            "    accuracy                           0.94        62\n",
            "   macro avg       0.97      0.60      0.65        62\n",
            "weighted avg       0.94      0.94      0.92        62\n",
            "\n",
            "Confusion Matrix: \n"
          ],
          "name": "stdout"
        },
        {
          "output_type": "display_data",
          "data": {
            "image/png": "[encoded data removed]",
            "text/plain": [
              "<Figure size 432x288 with 2 Axes>"
            ]
          },
          "metadata": {
            "tags": [],
            "needs_background": "light"
          }
        },
        {
          "output_type": "stream",
          "text": [
            "Total length to check for best model and parameters:  529\n"
          ],
          "name": "stdout"
        }
      ]
    },
    {
      "cell_type": "code",
      "metadata": {
        "id": "OA-LbCQuIPcz"
      },
      "source": [
        "sumx = 0;\n",
        "\n",
        "for i in len(output):\n",
        "  sumx += output[i]\n",
        "\n",
        "avgg = sumx / len(output);"
      ],
      "execution_count": null,
      "outputs": []
    },
    {
      "cell_type": "code",
      "metadata": {
        "id": "MdjYniNyIXrR"
      },
      "source": [
        "# show recommendation function\n",
        "def show_recommendations(user_id, X_train, y_train):\n",
        "  from sklearn.svm import SVC\n",
        "  from sklearn.metrics import classification_report, accuracy_score, confusion_matrix, plot_confusion_matrix\n",
        "  from sklearn.model_selection import GridSearchCV, ParameterGrid\n",
        "  import matplotlib.pyplot as plt\n",
        "\n",
        "  param_grid = [{'kernel': ['linear']}, {'kernel': ['poly','rbf'], 'C': [0.1,1,2,4,8,16,32,50,64,100,1000],'degree' :  [2, 3, 4],\n",
        "  'gamma': [0.0001,0.001,0.005,0.01,0.1, 1, 3, 5]}]\n",
        "\n",
        "  listX = update_bd['X'].where(update_bd['User-ID']==user_id)\n",
        "  new_set = []\n",
        "  listArticles = news_data['News-ID'].tolist();\n",
        "  \n",
        "  countRec = 0\n",
        "  for i in listArticles:\n",
        "  \n",
        "    if(countRec > 10):\n",
        "      break\n",
        "  \n",
        "    if not (i in listX):\n",
        "      X_test = i\n",
        "      grid_search(X_train, y_train, X_test, 1)\n",
        "      print(\"Total length to check for best model and parameters: \",len(list(ParameterGrid(param_grid))))\n",
        "      gsc = GridSearchCV(SVC(),param_grid,scoring='accuracy',cv=5)\n",
        "      grid_result = gsc.fit(X_train, y_train)\n",
        "      print(\"Best Parameters: \", grid_result.best_params_)\n",
        "      print(\"Best Estimator: \", grid_result.best_estimator_)\n",
        "      print(\"Best Score: \", grid_result.best_score_)\n",
        "      y_pred = grid_result.predict(X_test)\n",
        "      if(y_pred == 1):\n",
        "        print(i)\n",
        "        countRec +=1\n",
        "       \n",
        "\n",
        "                               "
      ],
      "execution_count": 26,
      "outputs": []
    },
    {
      "cell_type": "code",
      "metadata": {
        "colab": {
          "base_uri": "https://localhost:8080/",
          "height": 626
        },
        "id": "Jfh0oz26s2y4",
        "outputId": "72a01a06-8ff6-4169-9014-33d44fa20369"
      },
      "source": [
        "#get_data_from_index(0)"
      ],
      "execution_count": 27,
      "outputs": [
        {
          "output_type": "stream",
          "text": [
            "Total length to check for best model and parameters:  529\n",
            "Best Parameters:  {'C': 2, 'degree': 2, 'gamma': 0.1, 'kernel': 'rbf'}\n",
            "Best Estimator:  SVC(C=2, break_ties=False, cache_size=200, class_weight=None, coef0=0.0,\n",
            "    decision_function_shape='ovr', degree=2, gamma=0.1, kernel='rbf',\n",
            "    max_iter=-1, probability=False, random_state=None, shrinking=True,\n",
            "    tol=0.001, verbose=False)\n",
            "Best Score:  0.8274509803921568\n",
            "Accuracy: 0.6875\n",
            "Classification Report: \n",
            "              precision    recall  f1-score   support\n",
            "\n",
            "           0       0.75      0.85      0.80        46\n",
            "           1       0.42      0.28      0.33        18\n",
            "\n",
            "    accuracy                           0.69        64\n",
            "   macro avg       0.58      0.56      0.56        64\n",
            "weighted avg       0.66      0.69      0.67        64\n",
            "\n",
            "Confusion Matrix: \n"
          ],
          "name": "stdout"
        },
        {
          "output_type": "display_data",
          "data": {
            "image/png": "[encoded data removed]",
            "text/plain": [
              "<Figure size 432x288 with 2 Axes>"
            ]
          },
          "metadata": {
            "tags": [],
            "needs_background": "light"
          }
        },
        {
          "output_type": "execute_result",
          "data": {
            "text/plain": [
              "0.6875"
            ]
          },
          "metadata": {
            "tags": []
          },
          "execution_count": 27
        }
      ]
    },
    {
      "cell_type": "markdown",
      "metadata": {
        "id": "9CxrZc5EngdL"
      },
      "source": [
        "## Using SGD classifier\n"
      ]
    },
    {
      "cell_type": "code",
      "metadata": {
        "id": "WbixOGvWuTH0"
      },
      "source": [
        "from sklearn.linear_model import SGDClassifier\n",
        "from sklearn.preprocessing import StandardScaler\n",
        "from sklearn.pipeline import make_pipeline\n",
        "\n",
        "param_grid = [{ 'loss':['hinge', 'log', 'modified_huber', 'squared_hinge', 'perceptron','squared_loss', 'huber', 'epsilon_insensitive', 'squared_epsilon_insensitive'],\n",
        "                'penalty' : ['l1', 'l2'],\n",
        "                'l1_ratio' : [0, 0.1, 0.2, 0.5, 0.75, 1],\n",
        "                'max_iter': [100, 200, 500, 800, 1000, 1200, 1500, 1750, 2000, 3000, 5000, 10000, 20000],\n",
        "                'alpha': [0.0001, 0.001, 0.005, 0.01, 0.2 , 0.1, 1, 2, 5, 10, 20 , 50],\n",
        "                'tol':[0.005, 0.003, 0.0025, 0.002, 0.00175, 0.0015, 0.00125, 0.001, 0.01, 0.1, 1]\n",
        "}]\n",
        "print(\"Total length to check for best model and parameters: \",len(list(ParameterGrid(param_grid))))\n",
        "gsc = GridSearchCV(SGDClassifier(),param_grid,scoring='accuracy')\n",
        "grid_result = gsc.fit(X_train, y_train)\n",
        "print(\"Best Parameters: \", grid_result.best_params_)\n",
        "print(\"Best Estimator: \", grid_result.best_estimator_)\n",
        "print(\"Best Score: \", grid_result.best_score_)\n",
        "y_pred = grid_result.predict(X_test)\n",
        "print(\"Accuracy:\", accuracy_score(y_test, y_pred))\n",
        "print(\"Classification Report: \")\n",
        "print(classification_report(y_test, y_pred))"
      ],
      "execution_count": null,
      "outputs": []
    },
    {
      "cell_type": "code",
      "metadata": {
        "id": "wr2RS2n2pDlq"
      },
      "source": [
        "classifierX = make_pipeline(StandardScaler(),SGDClassifier(max_iter=10000,  alpha=10, tol=5e-3))\n",
        "classifierX.fit(X_train, y_train)\n",
        "\n",
        "y_pred_sgd = classifierX.decision_function(X_test)\n",
        "\n",
        "for i in range(len(y_pred_sgd)):\n",
        "  if (y_pred_sgd[i] > 0):\n",
        "    y_pred_sgd[i] = 1;\n",
        "  else:\n",
        "    y_pred_sgd[i] = 0;\n"
      ],
      "execution_count": null,
      "outputs": []
    },
    {
      "cell_type": "code",
      "metadata": {
        "id": "dBvS6al4tJrW"
      },
      "source": [
        "print(\"Accuracy:\", accuracy_score(y_test, y_pred_sgd))\n",
        "print(\"Classification Report: \")\n",
        "print(classification_report(y_test, y_pred_sgd))"
      ],
      "execution_count": null,
      "outputs": []
    },
    {
      "cell_type": "markdown",
      "metadata": {
        "id": "2lfX4rrN7HlV"
      },
      "source": [
        "# **User Perspective**"
      ]
    },
    {
      "cell_type": "markdown",
      "metadata": {
        "id": "UcNnj7LLSskB"
      },
      "source": [
        "## User Info"
      ]
    },
    {
      "cell_type": "code",
      "metadata": {
        "id": "8dxwHee_6XEg"
      },
      "source": [
        "user_id = input(\"Please enter your user-id : \")\n",
        "\n",
        "if user_id in behaviour_data.User-Id:\n",
        "      print(\"Welcome again\" +user_id)\n",
        "      start_point(user_id);\n",
        "else :\n",
        "      print(\"Apologies.. we currently won't register any new user\");"
      ],
      "execution_count": null,
      "outputs": []
    }
  ]
}